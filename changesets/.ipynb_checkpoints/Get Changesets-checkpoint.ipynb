{
 "cells": [
  {
   "cell_type": "markdown",
   "metadata": {},
   "source": [
    "# Download Athena Output"
   ]
  },
  {
   "cell_type": "code",
   "execution_count": 55,
   "metadata": {},
   "outputs": [],
   "source": [
    "import sys, os, urllib, shutil"
   ]
  },
  {
   "cell_type": "code",
   "execution_count": 56,
   "metadata": {},
   "outputs": [],
   "source": [
    "# S3_BASE = 'https://hot-aws-workshop.s3.us-east-2.amazonaws.com/'\n",
    "S3_BASE = 'https://2019-hotsummit-aws-workshop-us2.s3.us-east-2.amazonaws.com/'\n",
    "OUTPUT_DIR = '/home/cc/data/'\n",
    "\n",
    "def download(link,file_name=\"\"):\n",
    "    if len(link)== 36:\n",
    "        query_id = link\n",
    "    else:\n",
    "        query_id = link.split('/')[-2]\n",
    "        \n",
    "    if file_name==\"\":\n",
    "        file_name = query_id\n",
    "    \n",
    "#     if os.path.isfile(OUTPUT_DIR++\".csv\"):\n",
    "#         sys.stderr.write(\"Found file locally... not downloading\")\n",
    "    else:\n",
    "        file_url = S3_BASE + query_id + \".csv\"\n",
    "        sys.stderr.write(\"Downloading: {} as {}.csv\\n\".format(file_url, file_name))\n",
    "        with urllib.request.urlopen(file_url) as response, open(OUTPUT_DIR + file_name+\".csv\", 'wb') as out_file:\n",
    "            shutil.copyfileobj(response, out_file)\n",
    "        sys.stderr.write(\"\\nQuery results saved to: \"+OUTPUT_DIR+file_name+\".csv\\n\")"
   ]
  },
  {
   "cell_type": "code",
   "execution_count": 57,
   "metadata": {},
   "outputs": [],
   "source": [
    "files = [{\n",
    "        'year': 2019,\n",
    "        'url': 'https://us-east-2.console.aws.amazon.com/athena/query/results/4a678b0c-6456-44bf-a671-62b429fe4cf2/csv'\n",
    "    },{\n",
    "        'year': 2018,\n",
    "        'url': 'https://us-east-2.console.aws.amazon.com/athena/query/results/808ef3d7-d796-4fd2-a11e-6ce1c5bbca23/csv'\n",
    "    },{\n",
    "        'year': 2017,\n",
    "        'url': 'https://us-east-2.console.aws.amazon.com/athena/query/results/c71f1bf2-6dbb-49ac-bba0-d858c8e700c9/csv'\n",
    "    },{\n",
    "        'year': 2016,\n",
    "        'url': 'https://us-east-2.console.aws.amazon.com/athena/query/results/7e1856e8-1093-4d38-a7a6-f39056368127/csv'\n",
    "    },{\n",
    "        'year': 2015,\n",
    "        'url': 'https://us-east-2.console.aws.amazon.com/athena/query/results/9fec57f8-7e58-41e5-b485-313f7b6d8b36/csv'\n",
    "    },{\n",
    "        'year': 2014,\n",
    "        'url': 'https://us-east-2.console.aws.amazon.com/athena/query/results/527fc4f3-6674-42ee-abfb-bc59585bb57b/csv'\n",
    "    },{\n",
    "        'year': 2013,\n",
    "        'url': 'https://us-east-2.console.aws.amazon.com/athena/query/results/7b6ff561-2230-4397-8142-996d02347e67/csv'\n",
    "    },{\n",
    "        'year': 2012,\n",
    "        'url': 'https://us-east-2.console.aws.amazon.com/athena/query/results/00a31719-0e2c-43ff-8912-19b764256937/csv'\n",
    "    },{\n",
    "        'year': 2011,\n",
    "        'url': 'https://us-east-2.console.aws.amazon.com/athena/query/results/66d4f28f-d3e1-4f01-b570-a9ccbbd18ae1/csv'\n",
    "    },{\n",
    "        'year': 2010,\n",
    "        'url': 'https://us-east-2.console.aws.amazon.com/athena/query/results/04ddd23a-6c68-4882-aaf0-37deff229f7a/csv'\n",
    "    },{\n",
    "        'year': 2009,\n",
    "        'url': 'https://us-east-2.console.aws.amazon.com/athena/query/results/a5127601-e418-455d-aea0-cf1ee008a386/csv'\n",
    "    },{\n",
    "        'year': 2008,\n",
    "        'url': 'https://us-east-2.console.aws.amazon.com/athena/query/results/38ab1354-9c5e-4060-a5e7-b4acf8ac4fdb/csv'\n",
    "    },{\n",
    "        'year': 2007,\n",
    "        'url': 'https://us-east-2.console.aws.amazon.com/athena/query/results/42079fbf-dcbe-4099-be62-76609987e544/csv'\n",
    "    },{\n",
    "        'year': 2006,\n",
    "        'url': 'https://us-east-2.console.aws.amazon.com/athena/query/results/502a40cf-bc7e-4f6f-90c0-6549a1316f33/csv'\n",
    "    }]"
   ]
  },
  {
   "cell_type": "markdown",
   "metadata": {},
   "source": [
    "### Query Format: \n",
    "\n",
    "```sql\n",
    "SELECT id, CAST(tags AS JSON) as tags, created_at, min_lat, max_lat,\n",
    "         min_lon, max_lon, num_changes, uid, \"user\"\n",
    "FROM changesets\n",
    "WHERE created_at > date '2006-01-01' and created_at <= date '2007-01-01'\n",
    "ORDER BY created_at DESC\n",
    "```"
   ]
  },
  {
   "cell_type": "code",
   "execution_count": 58,
   "metadata": {},
   "outputs": [
    {
     "name": "stdout",
     "output_type": "stream",
     "text": [
      "2019\n"
     ]
    },
    {
     "name": "stderr",
     "output_type": "stream",
     "text": [
      "Downloading: https://2019-hotsummit-aws-workshop-us2.s3.us-east-2.amazonaws.com/4a678b0c-6456-44bf-a671-62b429fe4cf2.csv as changesets_2019.csv\n",
      "\n",
      "Query results saved to: /home/cc/data/changesets_2019.csv\n",
      "Downloading: https://2019-hotsummit-aws-workshop-us2.s3.us-east-2.amazonaws.com/808ef3d7-d796-4fd2-a11e-6ce1c5bbca23.csv as changesets_2018.csv\n"
     ]
    },
    {
     "name": "stdout",
     "output_type": "stream",
     "text": [
      "2018\n"
     ]
    },
    {
     "name": "stderr",
     "output_type": "stream",
     "text": [
      "\n",
      "Query results saved to: /home/cc/data/changesets_2018.csv\n",
      "Downloading: https://2019-hotsummit-aws-workshop-us2.s3.us-east-2.amazonaws.com/c71f1bf2-6dbb-49ac-bba0-d858c8e700c9.csv as changesets_2017.csv\n"
     ]
    },
    {
     "name": "stdout",
     "output_type": "stream",
     "text": [
      "2017\n"
     ]
    },
    {
     "name": "stderr",
     "output_type": "stream",
     "text": [
      "\n",
      "Query results saved to: /home/cc/data/changesets_2017.csv\n",
      "Downloading: https://2019-hotsummit-aws-workshop-us2.s3.us-east-2.amazonaws.com/7e1856e8-1093-4d38-a7a6-f39056368127.csv as changesets_2016.csv\n"
     ]
    },
    {
     "name": "stdout",
     "output_type": "stream",
     "text": [
      "2016\n"
     ]
    },
    {
     "name": "stderr",
     "output_type": "stream",
     "text": [
      "\n",
      "Query results saved to: /home/cc/data/changesets_2016.csv\n",
      "Downloading: https://2019-hotsummit-aws-workshop-us2.s3.us-east-2.amazonaws.com/9fec57f8-7e58-41e5-b485-313f7b6d8b36.csv as changesets_2015.csv\n"
     ]
    },
    {
     "name": "stdout",
     "output_type": "stream",
     "text": [
      "2015\n"
     ]
    },
    {
     "name": "stderr",
     "output_type": "stream",
     "text": [
      "\n",
      "Query results saved to: /home/cc/data/changesets_2015.csv\n",
      "Downloading: https://2019-hotsummit-aws-workshop-us2.s3.us-east-2.amazonaws.com/527fc4f3-6674-42ee-abfb-bc59585bb57b.csv as changesets_2014.csv\n"
     ]
    },
    {
     "name": "stdout",
     "output_type": "stream",
     "text": [
      "2014\n"
     ]
    },
    {
     "name": "stderr",
     "output_type": "stream",
     "text": [
      "\n",
      "Query results saved to: /home/cc/data/changesets_2014.csv\n",
      "Downloading: https://2019-hotsummit-aws-workshop-us2.s3.us-east-2.amazonaws.com/7b6ff561-2230-4397-8142-996d02347e67.csv as changesets_2013.csv\n"
     ]
    },
    {
     "name": "stdout",
     "output_type": "stream",
     "text": [
      "2013\n"
     ]
    },
    {
     "name": "stderr",
     "output_type": "stream",
     "text": [
      "\n",
      "Query results saved to: /home/cc/data/changesets_2013.csv\n",
      "Downloading: https://2019-hotsummit-aws-workshop-us2.s3.us-east-2.amazonaws.com/00a31719-0e2c-43ff-8912-19b764256937.csv as changesets_2012.csv\n"
     ]
    },
    {
     "name": "stdout",
     "output_type": "stream",
     "text": [
      "2012\n"
     ]
    },
    {
     "name": "stderr",
     "output_type": "stream",
     "text": [
      "\n",
      "Query results saved to: /home/cc/data/changesets_2012.csv\n",
      "Downloading: https://2019-hotsummit-aws-workshop-us2.s3.us-east-2.amazonaws.com/66d4f28f-d3e1-4f01-b570-a9ccbbd18ae1.csv as changesets_2011.csv\n"
     ]
    },
    {
     "name": "stdout",
     "output_type": "stream",
     "text": [
      "2011\n"
     ]
    },
    {
     "name": "stderr",
     "output_type": "stream",
     "text": [
      "\n",
      "Query results saved to: /home/cc/data/changesets_2011.csv\n",
      "Downloading: https://2019-hotsummit-aws-workshop-us2.s3.us-east-2.amazonaws.com/04ddd23a-6c68-4882-aaf0-37deff229f7a.csv as changesets_2010.csv\n"
     ]
    },
    {
     "name": "stdout",
     "output_type": "stream",
     "text": [
      "2010\n"
     ]
    },
    {
     "name": "stderr",
     "output_type": "stream",
     "text": [
      "\n",
      "Query results saved to: /home/cc/data/changesets_2010.csv\n",
      "Downloading: https://2019-hotsummit-aws-workshop-us2.s3.us-east-2.amazonaws.com/a5127601-e418-455d-aea0-cf1ee008a386.csv as changesets_2009.csv\n"
     ]
    },
    {
     "name": "stdout",
     "output_type": "stream",
     "text": [
      "2009\n"
     ]
    },
    {
     "name": "stderr",
     "output_type": "stream",
     "text": [
      "\n",
      "Query results saved to: /home/cc/data/changesets_2009.csv\n",
      "Downloading: https://2019-hotsummit-aws-workshop-us2.s3.us-east-2.amazonaws.com/38ab1354-9c5e-4060-a5e7-b4acf8ac4fdb.csv as changesets_2008.csv\n"
     ]
    },
    {
     "name": "stdout",
     "output_type": "stream",
     "text": [
      "2008\n"
     ]
    },
    {
     "name": "stderr",
     "output_type": "stream",
     "text": [
      "\n",
      "Query results saved to: /home/cc/data/changesets_2008.csv\n",
      "Downloading: https://2019-hotsummit-aws-workshop-us2.s3.us-east-2.amazonaws.com/42079fbf-dcbe-4099-be62-76609987e544.csv as changesets_2007.csv\n"
     ]
    },
    {
     "name": "stdout",
     "output_type": "stream",
     "text": [
      "2007\n"
     ]
    },
    {
     "name": "stderr",
     "output_type": "stream",
     "text": [
      "\n",
      "Query results saved to: /home/cc/data/changesets_2007.csv\n",
      "Downloading: https://2019-hotsummit-aws-workshop-us2.s3.us-east-2.amazonaws.com/502a40cf-bc7e-4f6f-90c0-6549a1316f33.csv as changesets_2006.csv\n"
     ]
    },
    {
     "name": "stdout",
     "output_type": "stream",
     "text": [
      "2006\n"
     ]
    },
    {
     "name": "stderr",
     "output_type": "stream",
     "text": [
      "\n",
      "Query results saved to: /home/cc/data/changesets_2006.csv\n"
     ]
    }
   ],
   "source": [
    "for entry in files:\n",
    "    print(entry['year'])\n",
    "    download(entry['url'], 'changesets_'+str(entry['year']))"
   ]
  },
  {
   "cell_type": "code",
   "execution_count": null,
   "metadata": {},
   "outputs": [],
   "source": [
    "download(entry['url'], 'changesets_'+str(2013))"
   ]
  }
 ],
 "metadata": {
  "kernelspec": {
   "display_name": "Python 3",
   "language": "python",
   "name": "python3"
  },
  "language_info": {
   "codemirror_mode": {
    "name": "ipython",
    "version": 3
   },
   "file_extension": ".py",
   "mimetype": "text/x-python",
   "name": "python",
   "nbconvert_exporter": "python",
   "pygments_lexer": "ipython3",
   "version": "3.5.2"
  }
 },
 "nbformat": 4,
 "nbformat_minor": 2
}
